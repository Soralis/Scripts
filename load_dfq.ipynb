{
 "cells": [
  {
   "cell_type": "code",
   "execution_count": 67,
   "metadata": {},
   "outputs": [],
   "source": [
    "# load dfq file into pandas DataFrame\n",
    "import pandas as pd\n",
    "import aqdefreader as aqdr\n",
    "\n",
    "def load_dfq(filepath):\n",
    "    \"\"\"Loads a DFQ file into a pandas DataFrame.\n",
    "    Args:\n",
    "        filepath (str): The path to the DFQ file.\n",
    "    Returns:\n",
    "        pandas.DataFrame: A pandas DataFrame containing the data from the DFQ file.\n",
    "        Returns None if the file does not exist or if an error occurs during loading.\n",
    "    \"\"\"\n",
    "\n",
    "    dfq_data: aqdr.DfqFile = aqdr.read_dfq_file(filepath)\n",
    "    cc_df = aqdr.create_column_dataframe(dfq_data)\n",
    "    return cc_df\n",
    "    "
   ]
  },
  {
   "cell_type": "code",
   "execution_count": 68,
   "metadata": {},
   "outputs": [
    {
     "name": "stdout",
     "output_type": "stream",
     "text": [
      "Count of characteristics in DFQ file: 34\n"
     ]
    }
   ],
   "source": [
    "file_path ='C:/Users/ckunde/Desktop/Scripts/P(Outer race IXP1900)_OP(Outer race IXP1900)_CS(03_Track_measurement_hard [3])_TS(20250211140020760)_MCH(4).dfq'\n",
    "file_df = load_dfq(file_path)"
   ]
  },
  {
   "cell_type": "code",
   "execution_count": 70,
   "metadata": {},
   "outputs": [],
   "source": [
    "file_df.to_excel('C:/Users/ckunde/Desktop/Scripts/dfq_to_excel_output.xlsx')"
   ]
  },
  {
   "cell_type": "code",
   "execution_count": null,
   "metadata": {},
   "outputs": [],
   "source": []
  }
 ],
 "metadata": {
  "kernelspec": {
   "display_name": ".venv",
   "language": "python",
   "name": "python3"
  },
  "language_info": {
   "codemirror_mode": {
    "name": "ipython",
    "version": 3
   },
   "file_extension": ".py",
   "mimetype": "text/x-python",
   "name": "python",
   "nbconvert_exporter": "python",
   "pygments_lexer": "ipython3",
   "version": "3.13.0"
  }
 },
 "nbformat": 4,
 "nbformat_minor": 2
}
