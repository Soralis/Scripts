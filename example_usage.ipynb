{
 "cells": [
  {
   "cell_type": "markdown",
   "metadata": {},
   "source": [
    "# Example Usage of db_utils\n",
    "\n",
    "This notebook demonstrates how to use the db_utils functions to load .mdb files."
   ]
  },
  {
   "cell_type": "code",
   "execution_count": null,
   "metadata": {},
   "source": [
    "# Import the functions\n",
    "from db_utils import load_mdb_directory, load_mdb_tables\n",
    "\n",
    "# Example: Load all tables from a single .mdb file\n",
    "file_path = \"path/to/your/file.mdb\"\n",
    "tables = load_mdb_tables(file_path)\n",
    "\n",
    "# Access individual tables\n",
    "for table_name, df in tables.items():\n",
    "    print(f\"\\nTable: {table_name}\")\n",
    "    print(df.head())\n",
    "\n",
    "# Example: Load all .mdb files from a directory\n",
    "directory = \"path/to/your/directory\"\n",
    "all_data = load_mdb_directory(directory)\n",
    "\n",
    "# Access data from specific files and tables\n",
    "for file_name, file_tables in all_data.items():\n",
    "    print(f\"\\nFile: {file_name}\")\n",
    "    for table_name, df in file_tables.items():\n",
    "        print(f\"Table: {table_name}\")\n",
    "        print(df.head())"
   ]
  }
 ],
 "metadata": {
  "kernelspec": {
   "display_name": "Python 3",
   "language": "python",
   "name": "python3"
  },
  "language_info": {
   "codemirror_mode": {
    "name": "ipython",
    "version": 3
   },
   "file_extension": ".py",
   "mimetype": "text/x-python",
   "name": "python",
   "nbconvert_exporter": "python",
   "pygments_lexer": "ipython3",
   "version": "3.8.0"
  }
 },
 "nbformat": 4,
 "nbformat_minor": 4
}
