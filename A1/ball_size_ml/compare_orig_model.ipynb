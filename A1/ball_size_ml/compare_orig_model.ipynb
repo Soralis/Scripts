{
 "cells": [
  {
   "cell_type": "code",
   "execution_count": 2,
   "metadata": {},
   "outputs": [],
   "source": [
    "import os\n",
    "import pickle"
   ]
  },
  {
   "cell_type": "code",
   "execution_count": 6,
   "metadata": {},
   "outputs": [
    {
     "name": "stdout",
     "output_type": "stream",
     "text": [
      "Mean squared error: 1400.102274779254\n"
     ]
    }
   ],
   "source": [
    "# Load the pickled dataframe\n",
    "data_dir = 'C:/Users/ckunde/Desktop/Scripts/A1/ball_size_ml/data'\n",
    "pickle_path = os.path.join(data_dir, 'combined_data.pkl')\n",
    "\n",
    "with open(pickle_path, 'rb') as f:\n",
    "    df = pickle.load(f)\n",
    "\n",
    "# Define the target force\n",
    "target_force = 75\n",
    "\n",
    "# Calculate the squared error\n",
    "squared_error = (df['Op40ForceAverage'] - target_force)**2\n",
    "\n",
    "# Calculate the mean squared error\n",
    "mse = squared_error.mean()\n",
    "\n",
    "print(f'Mean squared error: {mse}')"
   ]
  },
  {
   "cell_type": "code",
   "execution_count": null,
   "metadata": {},
   "outputs": [],
   "source": []
  }
 ],
 "metadata": {
  "kernelspec": {
   "display_name": ".venv",
   "language": "python",
   "name": "python3"
  },
  "language_info": {
   "codemirror_mode": {
    "name": "ipython",
    "version": 3
   },
   "file_extension": ".py",
   "mimetype": "text/x-python",
   "name": "python",
   "nbconvert_exporter": "python",
   "pygments_lexer": "ipython3",
   "version": "3.13.0"
  }
 },
 "nbformat": 4,
 "nbformat_minor": 2
}
