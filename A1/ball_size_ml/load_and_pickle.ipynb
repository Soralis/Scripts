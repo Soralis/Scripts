{
 "cells": [
  {
   "cell_type": "code",
   "execution_count": 2,
   "id": "502bb867",
   "metadata": {},
   "outputs": [],
   "source": [
    "# Import necessary libraries\n",
    "import pandas as pd\n",
    "import os\n",
    "import pickle"
   ]
  },
  {
   "cell_type": "code",
   "execution_count": 6,
   "id": "f2cfbc81",
   "metadata": {},
   "outputs": [
    {
     "name": "stdout",
     "output_type": "stream",
     "text": [
      "   Op10Diameter1_4Measurement  Op10Diameter2_5Measurement  \\\n",
      "0                      48.001                      48.003   \n",
      "1                      47.998                      48.006   \n",
      "2                      47.988                      47.993   \n",
      "3                      48.005                      48.014   \n",
      "4                      47.989                      47.998   \n",
      "\n",
      "   Op10Diameter3_6Measurement  Op10DiameterAvgMeasurement  \\\n",
      "0                      48.004                     48.0020   \n",
      "1                      48.008                     48.0020   \n",
      "2                      47.985                     47.9865   \n",
      "3                      48.014                     48.0095   \n",
      "4                      47.993                     47.9910   \n",
      "\n",
      "   Op10MasterTempChangeMeasurement  Op20Diameter1_4Measurement  \\\n",
      "0                              0.0                      47.995   \n",
      "1                              0.0                      48.003   \n",
      "2                              0.0                      48.003   \n",
      "3                              0.0                      48.001   \n",
      "4                              0.0                      48.012   \n",
      "\n",
      "   Op20Diameter2_5Measurement  Op20Diameter3_6Measurement  \\\n",
      "0                      47.990                      47.986   \n",
      "1                      48.005                      48.002   \n",
      "2                      47.990                      47.991   \n",
      "3                      47.994                      47.999   \n",
      "4                      47.995                      48.002   \n",
      "\n",
      "   Op20DiameterAvgMeasurement  Op20MasterTempChangeMeasurement  \\\n",
      "0                     47.9925                            0.045   \n",
      "1                     48.0040                            0.006   \n",
      "2                     47.9970                            0.045   \n",
      "3                     48.0000                           -0.045   \n",
      "4                     48.0070                            0.051   \n",
      "\n",
      "   Op20PickedBallSize  Op20PickedBallSize1  Op35AAssembly1BallSize  \\\n",
      "0                14.0                 14.0                     0.0   \n",
      "1                 0.0                  0.0                     0.0   \n",
      "2                16.0                 16.0                     0.0   \n",
      "3                 4.0                  4.0                     0.0   \n",
      "4                 6.0                  6.0                     0.0   \n",
      "\n",
      "   Op35BAssembly2BallSize  Op40ForceTestNotok  Op50ForceTestOk2  \\\n",
      "0                     0.0                 0.0               1.0   \n",
      "1                     0.0                 0.0               1.0   \n",
      "2                     0.0                 0.0               1.0   \n",
      "3                     0.0                 0.0               1.0   \n",
      "4                     0.0                 0.0               1.0   \n",
      "\n",
      "   Op50ForcePlusData  Op40ForceMinusData  Op40ForceAverage  \n",
      "0           108.4270                 0.0          117.3480  \n",
      "1           111.0130                 0.0          118.5240  \n",
      "2            44.2395                 0.0           53.9975  \n",
      "3            67.0011                 0.0           75.6956  \n",
      "4            42.4102                 0.0           50.5628  \n"
     ]
    }
   ],
   "source": [
    "# Load data from CSV files\n",
    "data_dir = 'C:/Users/ckunde/Desktop/Scripts/A1/ball_size_ml/data'\n",
    "csv_files = [f for f in os.listdir(data_dir) if f.endswith('.csv')]\n",
    "\n",
    "dfs = []\n",
    "for file in csv_files:\n",
    "    file_path = os.path.join(data_dir, file)\n",
    "    df = pd.read_csv(file_path)\n",
    "    dfs.append(df)\n",
    "\n",
    "# Concatenate all dataframes into one\n",
    "df = pd.concat(dfs, ignore_index=True)\n",
    "\n",
    "# List of columns to keep\n",
    "columns_to_keep = ['Op10Diameter1_4Measurement', 'Op10Diameter2_5Measurement', \n",
    "                   'Op10Diameter3_6Measurement', 'Op10DiameterAvgMeasurement', \n",
    "                   'Op10MasterTempChangeMeasurement', 'Op20Diameter1_4Measurement', \n",
    "                   'Op20Diameter2_5Measurement', 'Op20Diameter3_6Measurement', \n",
    "                   'Op20DiameterAvgMeasurement', 'Op20MasterTempChangeMeasurement', \n",
    "                   'Op20PickedBallSize', 'Op20PickedBallSize1', 'Op35AAssembly1BallSize', \n",
    "                   'Op35BAssembly2BallSize', 'Op40ForceTestNotok',\n",
    "                   'Op50ForceTestOk2', 'Op50ForcePlusData', 'Op40ForceMinusData',\n",
    "                   'Op40ForceAverage', \n",
    "                #    'Op40BacklashTestOk1', 'Op40BacklashTestNotOk',\n",
    "                #    'Op40BacklashData', 'Op40BacklashCWData', 'Op40BacklashCCWData'\n",
    "                   ]\n",
    "\n",
    "# Select the columns to keep\n",
    "df = df[columns_to_keep]\n",
    "df = df.dropna()\n",
    "\n",
    "# Display the first few rows of the dataframe\n",
    "print(df.head())"
   ]
  },
  {
   "cell_type": "code",
   "execution_count": 7,
   "id": "a2cacc95",
   "metadata": {},
   "outputs": [
    {
     "name": "stdout",
     "output_type": "stream",
     "text": [
      "Dataframe pickled to C:/Users/ckunde/Desktop/Scripts/A1/ball_size_ml/data\\combined_data.pkl\n"
     ]
    }
   ],
   "source": [
    "# Pickle the dataframe for future use\n",
    "pickle_path = os.path.join(data_dir, 'combined_data.pkl')\n",
    "with open(pickle_path, 'wb') as f:\n",
    "    pickle.dump(df, f)\n",
    "\n",
    "print(f'Dataframe pickled to {pickle_path}')"
   ]
  },
  {
   "cell_type": "code",
   "execution_count": null,
   "id": "60c95fd4",
   "metadata": {},
   "outputs": [],
   "source": []
  }
 ],
 "metadata": {
  "kernelspec": {
   "display_name": "Python 3",
   "language": "python",
   "name": "python3"
  },
  "language_info": {
   "codemirror_mode": {
    "name": "ipython",
    "version": 3
   },
   "file_extension": ".py",
   "mimetype": "text/x-python",
   "name": "python",
   "nbconvert_exporter": "python",
   "pygments_lexer": "ipython3",
   "version": "3.13.0"
  }
 },
 "nbformat": 4,
 "nbformat_minor": 5
}
