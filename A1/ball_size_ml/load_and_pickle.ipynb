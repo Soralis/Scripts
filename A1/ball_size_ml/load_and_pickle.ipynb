{
 "cells": [
  {
   "cell_type": "code",
   "execution_count": 21,
   "id": "502bb867",
   "metadata": {},
   "outputs": [],
   "source": [
    "# Import necessary libraries\n",
    "import pandas as pd\n",
    "import os\n",
    "import pickle"
   ]
  },
  {
   "cell_type": "code",
   "execution_count": 26,
   "id": "f2cfbc81",
   "metadata": {},
   "outputs": [
    {
     "data": {
      "text/plain": [
       "['TrackingID',\n",
       " 'ModelID',\n",
       " 'ModelID2',\n",
       " 'CurrentStationID',\n",
       " 'CurrentStationName',\n",
       " 'NextStationID',\n",
       " 'NextStationName',\n",
       " 'RejectCode',\n",
       " 'Rework',\n",
       " 'PalletID',\n",
       " 'DateAdded',\n",
       " 'DateModified',\n",
       " 'DateCompleted',\n",
       " 'Op10TrackingID',\n",
       " 'Op10PalletID',\n",
       " 'Op10DateAdded',\n",
       " 'Op10Rework',\n",
       " 'Op10OuterRaceLoadMode',\n",
       " 'Op10GaugedOk',\n",
       " 'Op10GaugedNotOk',\n",
       " 'Op10Diameter1_4Measurement',\n",
       " 'Op10Diameter2_5Measurement',\n",
       " 'Op10Diameter3_6Measurement',\n",
       " 'Op10DiameterAvgMeasurement',\n",
       " 'Op10MasterTempChangeMeasurement',\n",
       " 'Op20TrackingID',\n",
       " 'Op20PalletID',\n",
       " 'Op20DateAdded',\n",
       " 'Op20Rework',\n",
       " 'Op20OuterRaceLoadMode',\n",
       " 'Op20GaugedOk',\n",
       " 'Op20GaugedNotOk',\n",
       " 'Op20Diameter1_4Measurement',\n",
       " 'Op20Diameter2_5Measurement',\n",
       " 'Op20Diameter3_6Measurement',\n",
       " 'Op20DiameterAvgMeasurement',\n",
       " 'Op20MasterTempChangeMeasurement',\n",
       " 'Op20PickedBallSize',\n",
       " 'Op20PickedBallSize1',\n",
       " 'Op30TrackingID',\n",
       " 'Op30PalletID',\n",
       " 'Op30DateAdded',\n",
       " 'Op30Rework',\n",
       " 'Op35AAssembly1BallSize',\n",
       " 'Op35AAssembly1BallBinNumber',\n",
       " 'Op35BAssembly2BallSize',\n",
       " 'Op35BAssembly2BallBinNumber',\n",
       " 'Op50TrackingID1',\n",
       " 'Op50PalletID1',\n",
       " 'Op50DateAdded1',\n",
       " 'Op50Rework1',\n",
       " 'Op40ForceTestNotok',\n",
       " 'Op50ForceTestOk2',\n",
       " 'Op50ForcePlusData',\n",
       " 'Op40ForceMinusData',\n",
       " 'Op40ForceAverage',\n",
       " 'Op40BacklashTestOk1',\n",
       " 'Op40BacklashTestNotOk',\n",
       " 'Op40BacklashData',\n",
       " 'Op40BacklashCWData',\n",
       " 'Op40BacklashCCWData',\n",
       " 'Op40MachineOffset',\n",
       " 'Op50TrackingID',\n",
       " 'Op50PalletID',\n",
       " 'Op50DateAdded',\n",
       " 'Op50Rework',\n",
       " 'Op50ColorOk',\n",
       " 'Op50ProfileOk',\n",
       " 'Op50PresenceProbeOk',\n",
       " 'Op50PresenceProbeData',\n",
       " 'Op60TrackingID',\n",
       " 'Op60PalletID',\n",
       " 'Op60DateAdded',\n",
       " 'Op60Rework',\n",
       " 'Op60DRingLoadMode',\n",
       " 'Op60PresenceProbeOk',\n",
       " 'Op50GasketProbeData',\n",
       " 'Op70TrackingID',\n",
       " 'Op70BallInspectOK',\n",
       " 'Op70BallInspectNOK',\n",
       " 'Op70aTrackingID',\n",
       " 'Op70aPalletID',\n",
       " 'Op70aDateAdded',\n",
       " 'Op70aRework',\n",
       " 'Op70aLaserGrade',\n",
       " 'Op70aLaserData',\n",
       " 'Op80TrackingID',\n",
       " 'Op80PalletID',\n",
       " 'Op80DateAdded',\n",
       " 'Op80Rework',\n",
       " 'Op80PackoutLoadMode',\n",
       " 'Op80PartOk',\n",
       " 'Op80PartNotOk']"
      ]
     },
     "execution_count": 26,
     "metadata": {},
     "output_type": "execute_result"
    }
   ],
   "source": [
    "# Load data from CSV files\n",
    "data_dir = 'C:/Users/ckunde/Desktop/Scripts/A1/ball_size_ml/data'\n",
    "csv_files = [f for f in os.listdir(data_dir) if f.endswith('.csv')]\n",
    "\n",
    "dfs = []\n",
    "for file in csv_files:\n",
    "    file_path = os.path.join(data_dir, file)\n",
    "    df = pd.read_csv(file_path)\n",
    "    dfs.append(df)\n",
    "\n",
    "# Concatenate all dataframes into one\n",
    "df = pd.concat(dfs, ignore_index=True)\n",
    "\n",
    "df.columns.to_list()\n"
   ]
  },
  {
   "cell_type": "code",
   "execution_count": 23,
   "id": "f48bd37b",
   "metadata": {},
   "outputs": [
    {
     "name": "stdout",
     "output_type": "stream",
     "text": [
      "   Op10Diameter1_4Measurement  Op10Diameter2_5Measurement  \\\n",
      "0                      48.001                      48.003   \n",
      "1                      47.998                      48.006   \n",
      "2                      47.988                      47.993   \n",
      "3                      48.005                      48.014   \n",
      "4                      47.989                      47.998   \n",
      "\n",
      "   Op10Diameter3_6Measurement  Op10DiameterAvgMeasurement  \\\n",
      "0                      48.004                     48.0020   \n",
      "1                      48.008                     48.0020   \n",
      "2                      47.985                     47.9865   \n",
      "3                      48.014                     48.0095   \n",
      "4                      47.993                     47.9910   \n",
      "\n",
      "   Op10MasterTempChangeMeasurement  Op20Diameter1_4Measurement  \\\n",
      "0                              0.0                      47.995   \n",
      "1                              0.0                      48.003   \n",
      "2                              0.0                      48.003   \n",
      "3                              0.0                      48.001   \n",
      "4                              0.0                      48.012   \n",
      "\n",
      "   Op20Diameter2_5Measurement  Op20Diameter3_6Measurement  \\\n",
      "0                      47.990                      47.986   \n",
      "1                      48.005                      48.002   \n",
      "2                      47.990                      47.991   \n",
      "3                      47.994                      47.999   \n",
      "4                      47.995                      48.002   \n",
      "\n",
      "   Op20DiameterAvgMeasurement  Op20MasterTempChangeMeasurement  ...  \\\n",
      "0                     47.9925                            0.045  ...   \n",
      "1                     48.0040                            0.006  ...   \n",
      "2                     47.9970                            0.045  ...   \n",
      "3                     48.0000                           -0.045  ...   \n",
      "4                     48.0070                            0.051  ...   \n",
      "\n",
      "   Op20PickedBallSize1  Op35AAssembly1BallSize  Op35AAssembly1BallBinNumber  \\\n",
      "0                 14.0                     0.0                          0.0   \n",
      "1                  0.0                     0.0                          0.0   \n",
      "2                 16.0                     0.0                          0.0   \n",
      "3                  4.0                     0.0                          0.0   \n",
      "4                  6.0                     0.0                          0.0   \n",
      "\n",
      "   Op35BAssembly2BallSize  Op35BAssembly2BallBinNumber  Op40ForceTestNotok  \\\n",
      "0                     0.0                          0.0                 0.0   \n",
      "1                     0.0                          0.0                 0.0   \n",
      "2                     0.0                          0.0                 0.0   \n",
      "3                     0.0                          0.0                 0.0   \n",
      "4                     0.0                          0.0                 0.0   \n",
      "\n",
      "   Op50ForceTestOk2  Op50ForcePlusData  Op40ForceMinusData  Op40ForceAverage  \n",
      "0               1.0           108.4270                 0.0          117.3480  \n",
      "1               1.0           111.0130                 0.0          118.5240  \n",
      "2               1.0            44.2395                 0.0           53.9975  \n",
      "3               1.0            67.0011                 0.0           75.6956  \n",
      "4               1.0            42.4102                 0.0           50.5628  \n",
      "\n",
      "[5 rows x 21 columns]\n"
     ]
    }
   ],
   "source": [
    "\n",
    "# # List of columns to keep\n",
    "# columns_to_keep = ['Op10Diameter1_4Measurement', 'Op10Diameter2_5Measurement', \n",
    "#                    'Op10Diameter3_6Measurement', 'Op10DiameterAvgMeasurement', \n",
    "#                    'Op10MasterTempChangeMeasurement', 'Op20Diameter1_4Measurement', \n",
    "#                    'Op20Diameter2_5Measurement', 'Op20Diameter3_6Measurement', \n",
    "#                    'Op20DiameterAvgMeasurement', 'Op20MasterTempChangeMeasurement', \n",
    "#                    'Op20PickedBallSize', 'Op20PickedBallSize1', 'Op35AAssembly1BallSize','Op35AAssembly1BallBinNumber',  \n",
    "#                    'Op35BAssembly2BallSize', 'Op35BAssembly2BallBinNumber', 'Op40ForceTestNotok',\n",
    "#                    'Op50ForceTestOk2', 'Op50ForcePlusData', 'Op40ForceMinusData',\n",
    "#                    'Op40ForceAverage', \n",
    "#                 #    'Op40BacklashTestOk1', 'Op40BacklashTestNotOk',\n",
    "#                 #    'Op40BacklashData', 'Op40BacklashCWData', 'Op40BacklashCCWData'\n",
    "#                    ]\n",
    "\n",
    "# # Select the columns to keep\n",
    "# df = df[columns_to_keep]\n",
    "df = df.dropna()\n",
    "\n",
    "# Display the first few rows of the dataframe\n",
    "print(df.head())"
   ]
  },
  {
   "cell_type": "code",
   "execution_count": 24,
   "id": "2dc7f7b4",
   "metadata": {},
   "outputs": [],
   "source": [
    "# Add Features: Difference between Op20 and Op10 DiameterAvgMeasurement\n",
    "df['DiameterAvgDiff'] = 1000 * (df['Op20DiameterAvgMeasurement'] - df['Op10DiameterAvgMeasurement'])\n",
    "df['Diameter1_4Diff'] = 1000 * (df['Op20Diameter1_4Measurement'] - df['Op10Diameter1_4Measurement'])\n",
    "df['Diameter2_5Diff'] = 1000 * (df['Op20Diameter2_5Measurement'] - df['Op10Diameter2_5Measurement'])\n",
    "df['Diameter3_6Diff'] = 1000 * (df['Op20Diameter3_6Measurement'] - df['Op10Diameter3_6Measurement'])\n",
    "\n",
    "measurements = [\n",
    "    'Op10Diameter1_4Measurement',\n",
    "    'Op10Diameter2_5Measurement',\n",
    "    'Op10Diameter3_6Measurement',\n",
    "    'Op20Diameter1_4Measurement',\n",
    "    'Op20Diameter2_5Measurement',\n",
    "    'Op20Diameter3_6Measurement',\n",
    "    'Op10DiameterAvgMeasurement',\n",
    "    'Op20DiameterAvgMeasurement'\n",
    "]\n",
    "for measure in measurements:\n",
    "    df[measure+'_dev'] = (df[measure] - 48) * 1000"
   ]
  },
  {
   "cell_type": "code",
   "execution_count": 25,
   "id": "a2cacc95",
   "metadata": {},
   "outputs": [
    {
     "name": "stdout",
     "output_type": "stream",
     "text": [
      "Dataframe pickled to C:/Users/ckunde/Desktop/Scripts/A1/ball_size_ml/data\\combined_data.pkl\n"
     ]
    }
   ],
   "source": [
    "df.dropna(inplace=True)\n",
    "\n",
    "# Pickle the dataframe for future use\n",
    "pickle_path = os.path.join(data_dir, 'combined_data.pkl')\n",
    "with open(pickle_path, 'wb') as f:\n",
    "    pickle.dump(df, f)\n",
    "\n",
    "print(f'Dataframe pickled to {pickle_path}')"
   ]
  },
  {
   "cell_type": "code",
   "execution_count": 7,
   "id": "60c95fd4",
   "metadata": {},
   "outputs": [
    {
     "data": {
      "text/plain": [
       "627408"
      ]
     },
     "execution_count": 7,
     "metadata": {},
     "output_type": "execute_result"
    }
   ],
   "source": [
    "df.shape[0]"
   ]
  },
  {
   "cell_type": "code",
   "execution_count": null,
   "id": "1a62f083",
   "metadata": {},
   "outputs": [],
   "source": []
  },
  {
   "cell_type": "code",
   "execution_count": null,
   "id": "df241f91",
   "metadata": {},
   "outputs": [],
   "source": []
  }
 ],
 "metadata": {
  "kernelspec": {
   "display_name": ".venv",
   "language": "python",
   "name": "python3"
  },
  "language_info": {
   "codemirror_mode": {
    "name": "ipython",
    "version": 3
   },
   "file_extension": ".py",
   "mimetype": "text/x-python",
   "name": "python",
   "nbconvert_exporter": "python",
   "pygments_lexer": "ipython3",
   "version": "3.13.0"
  }
 },
 "nbformat": 4,
 "nbformat_minor": 5
}
