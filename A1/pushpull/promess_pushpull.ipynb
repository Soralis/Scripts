{
 "cells": [
  {
   "cell_type": "code",
   "execution_count": 1,
   "metadata": {},
   "outputs": [
    {
     "name": "stdout",
     "output_type": "stream",
     "text": [
      "Microsoft Access Driver not found - cannot connect to .mdb files\n",
      "Microsoft Access Driver not found - cannot connect to .mdb files\n",
      "Microsoft Access Driver not found - cannot connect to .mdb files\n",
      "Microsoft Access Driver not found - cannot connect to .mdb files\n",
      "Microsoft Access Driver not found - cannot connect to .mdb files\n",
      "Microsoft Access Driver not found - cannot connect to .mdb files\n",
      "Microsoft Access Driver not found - cannot connect to .mdb files\n"
     ]
    }
   ],
   "source": [
    "# Now we can import from db_utils\n",
    "from db_utils import load_mdb_directory, load_mdb_tables\n",
    "\n",
    "# Example: Load all tables from a single .mdb file\n",
    "folder_path = \"C:/Users/ckunde/Desktop/Scripts/A1/data\"\n",
    "tables = load_mdb_directory(folder_path)"
   ]
  },
  {
   "cell_type": "code",
   "execution_count": 8,
   "metadata": {},
   "outputs": [
    {
     "data": {
      "text/plain": [
       "{}"
      ]
     },
     "execution_count": 8,
     "metadata": {},
     "output_type": "execute_result"
    }
   ],
   "source": [
    "tables"
   ]
  },
  {
   "cell_type": "code",
   "execution_count": null,
   "metadata": {},
   "outputs": [],
   "source": []
  }
 ],
 "metadata": {
  "kernelspec": {
   "display_name": "Python 3",
   "language": "python",
   "name": "python3"
  },
  "language_info": {
   "codemirror_mode": {
    "name": "ipython",
    "version": 3
   },
   "file_extension": ".py",
   "mimetype": "text/x-python",
   "name": "python",
   "nbconvert_exporter": "python",
   "pygments_lexer": "ipython3",
   "version": "3.13.0"
  }
 },
 "nbformat": 4,
 "nbformat_minor": 4
}
